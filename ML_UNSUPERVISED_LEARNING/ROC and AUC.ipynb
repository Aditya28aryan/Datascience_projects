{
 "cells": [
  {
   "cell_type": "markdown",
   "id": "fece40f4-8bae-4c25-ba3c-e7bbe334ed81",
   "metadata": {},
   "source": [
    "# ROC and AUC "
   ]
  },
  {
   "cell_type": "markdown",
   "id": "18ad4607-4ec2-46ac-ac7f-5b6853f0c484",
   "metadata": {},
   "source": [
    "ROC stands for receiver output characterics and AUC stands for Area Under the curve . \n",
    "These curves help us assess the performance of classification models "
   ]
  },
  {
   "cell_type": "markdown",
   "id": "c7f3e3c7-0d01-4d4d-bfb4-4fcd48d2c125",
   "metadata": {},
   "source": [
    "False Positive Rate = Of all the nefative cases in the dataset how many the model incorrectly classified as positive  \n",
    "\n",
    "FP / (TN + FP)\n",
    "\n",
    "\n",
    "\n",
    "\n",
    "True Positive Rate = Of all the positive cases  in the dataset how many the model correctly classified as positive \n",
    "\n",
    "TP / (TP+FN)"
   ]
  },
  {
   "cell_type": "markdown",
   "id": "fda45bed-5774-488e-8a95-9e5216db50e1",
   "metadata": {},
   "source": [
    "True positive Rate is also called sensitivity or recall "
   ]
  },
  {
   "cell_type": "markdown",
   "id": "dd787ab6-1acd-48c7-86a1-4312ec8ab158",
   "metadata": {},
   "source": [
    "Sepcificity = It is the ability of the model to identify the negative cases correctly \n",
    "\n",
    "TN / (TN + FP )\n",
    "\n",
    "1 - Specificity = False Positive Rate  "
   ]
  },
  {
   "cell_type": "markdown",
   "id": "e3aafb90-c74b-45a3-b2d7-18edc5ac1bf8",
   "metadata": {},
   "source": [
    "The ROC curve is a graph between TPR and FPR . The area under the curve of this graph gives you a idea of the accuracy of the model "
   ]
  },
  {
   "cell_type": "code",
   "execution_count": 22,
   "id": "25ff73a2-4e10-4bb4-ae6f-d1afb6cd563b",
   "metadata": {},
   "outputs": [],
   "source": [
    "import numpy as np \n",
    "import pandas as pd \n",
    "\n",
    "from sklearn.datasets import load_breast_cancer\n",
    "from sklearn.model_selection import train_test_split\n",
    "\n",
    "from sklearn.linear_model import LogisticRegression\n",
    "\n",
    "import warnings\n",
    "warnings.filterwarnings('ignore')\n",
    "\n",
    "from sklearn.metrics import roc_curve , auc\n",
    "\n",
    "import matplotlib.pyplot as plt "
   ]
  },
  {
   "cell_type": "code",
   "execution_count": 4,
   "id": "67c8cd79-bb9a-4bdf-8d78-27bd8e708d13",
   "metadata": {},
   "outputs": [],
   "source": [
    "cancer = load_breast_cancer()"
   ]
  },
  {
   "cell_type": "code",
   "execution_count": 5,
   "id": "4d1a95d5-098c-4c6a-92d4-87e06e0f91e9",
   "metadata": {},
   "outputs": [],
   "source": [
    "X , y = cancer.data , cancer.target"
   ]
  },
  {
   "cell_type": "code",
   "execution_count": 7,
   "id": "4c451c89-fce5-4418-a899-62fc1f9c9866",
   "metadata": {},
   "outputs": [],
   "source": [
    "# Divide the data into train and test split \n",
    "X_train , X_test , y_train , y_test = train_test_split(X,y,test_size=0.2, random_state=0)"
   ]
  },
  {
   "cell_type": "code",
   "execution_count": 9,
   "id": "60d4c27e-b7a0-4b2e-a13d-41db4260db56",
   "metadata": {},
   "outputs": [],
   "source": [
    "# Define the Model \n",
    "\n",
    "log_reg = LogisticRegression()"
   ]
  },
  {
   "cell_type": "code",
   "execution_count": 13,
   "id": "b88332fa-f344-41ce-b1ce-5b242012fd46",
   "metadata": {},
   "outputs": [
    {
     "data": {
      "text/html": [
       "<style>#sk-container-id-2 {color: black;}#sk-container-id-2 pre{padding: 0;}#sk-container-id-2 div.sk-toggleable {background-color: white;}#sk-container-id-2 label.sk-toggleable__label {cursor: pointer;display: block;width: 100%;margin-bottom: 0;padding: 0.3em;box-sizing: border-box;text-align: center;}#sk-container-id-2 label.sk-toggleable__label-arrow:before {content: \"▸\";float: left;margin-right: 0.25em;color: #696969;}#sk-container-id-2 label.sk-toggleable__label-arrow:hover:before {color: black;}#sk-container-id-2 div.sk-estimator:hover label.sk-toggleable__label-arrow:before {color: black;}#sk-container-id-2 div.sk-toggleable__content {max-height: 0;max-width: 0;overflow: hidden;text-align: left;background-color: #f0f8ff;}#sk-container-id-2 div.sk-toggleable__content pre {margin: 0.2em;color: black;border-radius: 0.25em;background-color: #f0f8ff;}#sk-container-id-2 input.sk-toggleable__control:checked~div.sk-toggleable__content {max-height: 200px;max-width: 100%;overflow: auto;}#sk-container-id-2 input.sk-toggleable__control:checked~label.sk-toggleable__label-arrow:before {content: \"▾\";}#sk-container-id-2 div.sk-estimator input.sk-toggleable__control:checked~label.sk-toggleable__label {background-color: #d4ebff;}#sk-container-id-2 div.sk-label input.sk-toggleable__control:checked~label.sk-toggleable__label {background-color: #d4ebff;}#sk-container-id-2 input.sk-hidden--visually {border: 0;clip: rect(1px 1px 1px 1px);clip: rect(1px, 1px, 1px, 1px);height: 1px;margin: -1px;overflow: hidden;padding: 0;position: absolute;width: 1px;}#sk-container-id-2 div.sk-estimator {font-family: monospace;background-color: #f0f8ff;border: 1px dotted black;border-radius: 0.25em;box-sizing: border-box;margin-bottom: 0.5em;}#sk-container-id-2 div.sk-estimator:hover {background-color: #d4ebff;}#sk-container-id-2 div.sk-parallel-item::after {content: \"\";width: 100%;border-bottom: 1px solid gray;flex-grow: 1;}#sk-container-id-2 div.sk-label:hover label.sk-toggleable__label {background-color: #d4ebff;}#sk-container-id-2 div.sk-serial::before {content: \"\";position: absolute;border-left: 1px solid gray;box-sizing: border-box;top: 0;bottom: 0;left: 50%;z-index: 0;}#sk-container-id-2 div.sk-serial {display: flex;flex-direction: column;align-items: center;background-color: white;padding-right: 0.2em;padding-left: 0.2em;position: relative;}#sk-container-id-2 div.sk-item {position: relative;z-index: 1;}#sk-container-id-2 div.sk-parallel {display: flex;align-items: stretch;justify-content: center;background-color: white;position: relative;}#sk-container-id-2 div.sk-item::before, #sk-container-id-2 div.sk-parallel-item::before {content: \"\";position: absolute;border-left: 1px solid gray;box-sizing: border-box;top: 0;bottom: 0;left: 50%;z-index: -1;}#sk-container-id-2 div.sk-parallel-item {display: flex;flex-direction: column;z-index: 1;position: relative;background-color: white;}#sk-container-id-2 div.sk-parallel-item:first-child::after {align-self: flex-end;width: 50%;}#sk-container-id-2 div.sk-parallel-item:last-child::after {align-self: flex-start;width: 50%;}#sk-container-id-2 div.sk-parallel-item:only-child::after {width: 0;}#sk-container-id-2 div.sk-dashed-wrapped {border: 1px dashed gray;margin: 0 0.4em 0.5em 0.4em;box-sizing: border-box;padding-bottom: 0.4em;background-color: white;}#sk-container-id-2 div.sk-label label {font-family: monospace;font-weight: bold;display: inline-block;line-height: 1.2em;}#sk-container-id-2 div.sk-label-container {text-align: center;}#sk-container-id-2 div.sk-container {/* jupyter's `normalize.less` sets `[hidden] { display: none; }` but bootstrap.min.css set `[hidden] { display: none !important; }` so we also need the `!important` here to be able to override the default hidden behavior on the sphinx rendered scikit-learn.org. See: https://github.com/scikit-learn/scikit-learn/issues/21755 */display: inline-block !important;position: relative;}#sk-container-id-2 div.sk-text-repr-fallback {display: none;}</style><div id=\"sk-container-id-2\" class=\"sk-top-container\"><div class=\"sk-text-repr-fallback\"><pre>LogisticRegression()</pre><b>In a Jupyter environment, please rerun this cell to show the HTML representation or trust the notebook. <br />On GitHub, the HTML representation is unable to render, please try loading this page with nbviewer.org.</b></div><div class=\"sk-container\" hidden><div class=\"sk-item\"><div class=\"sk-estimator sk-toggleable\"><input class=\"sk-toggleable__control sk-hidden--visually\" id=\"sk-estimator-id-2\" type=\"checkbox\" checked><label for=\"sk-estimator-id-2\" class=\"sk-toggleable__label sk-toggleable__label-arrow\">LogisticRegression</label><div class=\"sk-toggleable__content\"><pre>LogisticRegression()</pre></div></div></div></div></div>"
      ],
      "text/plain": [
       "LogisticRegression()"
      ]
     },
     "execution_count": 13,
     "metadata": {},
     "output_type": "execute_result"
    }
   ],
   "source": [
    "log_reg.fit(X_train,y_train)"
   ]
  },
  {
   "cell_type": "code",
   "execution_count": 17,
   "id": "e454e72f-3085-4bb7-b3ec-8e75b0765124",
   "metadata": {},
   "outputs": [],
   "source": [
    "y_pred = log_reg.predict_proba(X_test)[:,1]"
   ]
  },
  {
   "cell_type": "code",
   "execution_count": 18,
   "id": "95996e81-0603-46be-8034-aff0fd83f679",
   "metadata": {},
   "outputs": [
    {
     "data": {
      "text/plain": [
       "array([1.03411803e-02, 9.71429926e-01, 9.97209985e-01, 7.98373059e-01,\n",
       "       9.99823043e-01, 9.97066806e-01, 9.94193806e-01, 9.97517242e-01,\n",
       "       9.83755760e-01, 9.99489905e-01, 5.17177194e-01, 8.81376518e-01,\n",
       "       9.96620332e-01, 1.37237976e-01, 8.09784476e-01, 6.67177812e-03,\n",
       "       9.89871274e-01, 3.78008333e-09, 1.29686021e-03, 5.98642706e-12,\n",
       "       4.33834174e-05, 1.12468151e-01, 9.97857111e-01, 9.88254823e-01,\n",
       "       5.43900860e-03, 9.70040956e-01, 9.96838140e-01, 2.38447211e-01,\n",
       "       9.96349758e-01, 3.07173572e-11, 9.99313887e-01, 2.52069399e-08,\n",
       "       7.21375061e-01, 5.22347608e-04, 9.99739728e-01, 2.56138448e-03,\n",
       "       9.00204280e-01, 1.89342167e-06, 9.95371609e-01, 5.54163021e-04,\n",
       "       1.00969226e-01, 9.96807868e-01, 2.02708792e-03, 9.98813552e-01,\n",
       "       1.14155234e-01, 1.27955162e-12, 9.99659402e-01, 9.57355852e-01,\n",
       "       9.96832321e-01, 8.82079764e-04, 5.56804038e-06, 5.32821400e-01,\n",
       "       4.81488929e-07, 9.95672274e-01, 9.93130588e-01, 9.98792394e-01,\n",
       "       9.92073354e-01, 9.68470840e-01, 9.66611413e-01, 2.99784326e-17,\n",
       "       1.28961874e-02, 6.41558131e-05, 9.97856498e-01, 9.91861763e-01,\n",
       "       1.02130159e-07, 9.16609829e-01, 1.48108914e-18, 7.27987429e-05,\n",
       "       3.06606381e-08, 9.83839997e-01, 4.38584253e-01, 1.19110089e-05,\n",
       "       9.95592066e-01, 8.56497449e-01, 2.42118205e-06, 9.79820513e-01,\n",
       "       9.96437764e-01, 9.91632010e-01, 9.95074983e-01, 9.89974405e-01,\n",
       "       3.88014165e-03, 9.10455917e-10, 2.22895260e-05, 9.99270443e-01,\n",
       "       6.12919806e-02, 9.98884140e-01, 9.94443416e-01, 9.98202704e-01,\n",
       "       2.89152751e-05, 4.85648606e-11, 9.99551454e-01, 2.96062878e-01,\n",
       "       3.66859725e-01, 8.47873062e-04, 9.73655888e-01, 9.87489366e-01,\n",
       "       7.67867389e-16, 8.44190992e-01, 9.61752843e-01, 9.77268560e-01,\n",
       "       9.98946041e-01, 9.92707467e-01, 9.91898379e-01, 9.39338550e-01,\n",
       "       9.34794074e-08, 9.98133135e-01, 7.18058745e-05, 8.25657944e-01,\n",
       "       1.17080414e-01, 2.77858477e-01, 9.77192233e-01, 7.54092938e-04,\n",
       "       1.02719659e-05, 8.68174412e-01])"
      ]
     },
     "execution_count": 18,
     "metadata": {},
     "output_type": "execute_result"
    }
   ],
   "source": [
    "y_pred"
   ]
  },
  {
   "cell_type": "code",
   "execution_count": 21,
   "id": "7a6f864c-536e-456e-9911-142afbbecb53",
   "metadata": {},
   "outputs": [],
   "source": [
    "fpr , tpr , thresholds = roc_curve(y_test , y_pred)"
   ]
  },
  {
   "cell_type": "code",
   "execution_count": 28,
   "id": "8ab0bfb3-9c5e-4d08-8194-250d60551a23",
   "metadata": {},
   "outputs": [
    {
     "data": {
      "text/plain": [
       "Text(0.5, 1.0, 'ROC Curve')"
      ]
     },
     "execution_count": 28,
     "metadata": {},
     "output_type": "execute_result"
    },
    {
     "data": {
      "image/png": "[encoded data removed]",
      "text/plain": [
       "<Figure size 576x432 with 1 Axes>"
      ]
     },
     "metadata": {
      "needs_background": "light"
     },
     "output_type": "display_data"
    }
   ],
   "source": [
    "## Plot the curve \n",
    "plt.figure(figsize=(8,6))\n",
    "plt.plot(fpr , tpr , lw = 2, color = 'blue')\n",
    "plt.xlabel('FPR (False Positive Rate)')\n",
    "plt.ylabel('TPR (True Positive Rate)')\n",
    "plt.title('ROC Curve')"
   ]
  },
  {
   "cell_type": "code",
   "execution_count": 31,
   "id": "999ef22a-61bc-4e6e-a921-477a7b1cbed6",
   "metadata": {},
   "outputs": [],
   "source": [
    "\n",
    "## Calculating the Area Under the Curve \n",
    "roc_auc = auc(fpr,tpr)"
   ]
  },
  {
   "cell_type": "code",
   "execution_count": 30,
   "id": "f3658ac0-8e79-4583-b244-8ce5ea653974",
   "metadata": {},
   "outputs": [
    {
     "name": "stdout",
     "output_type": "stream",
     "text": [
      "0.9930136551286123\n"
     ]
    }
   ],
   "source": [
    "print(roc_auc)"
   ]
  },
  {
   "cell_type": "code",
   "execution_count": null,
   "id": "4b5482a2-2dd8-40eb-a6d1-5206cb3c4c61",
   "metadata": {},
   "outputs": [],
   "source": []
  },
  {
   "cell_type": "code",
   "execution_count": null,
   "id": "9c26b96c-8f4c-45fe-815c-7c9f753559b2",
   "metadata": {},
   "outputs": [],
   "source": []
  },
  {
   "cell_type": "code",
   "execution_count": null,
   "id": "6a5ff7c4-e228-4030-a777-c0cec3f8fc3e",
   "metadata": {},
   "outputs": [],
   "source": []
  },
  {
   "cell_type": "code",
   "execution_count": null,
   "id": "d7766dc6-474b-4543-93c3-b20880e635bf",
   "metadata": {},
   "outputs": [],
   "source": []
  },
  {
   "cell_type": "code",
   "execution_count": null,
   "id": "08d54c1f-f9c2-47b8-ac8c-2882aa495c0c",
   "metadata": {},
   "outputs": [],
   "source": []
  },
  {
   "cell_type": "code",
   "execution_count": null,
   "id": "0bddb5a9-0050-41bf-ab3c-84b99bab9427",
   "metadata": {},
   "outputs": [],
   "source": []
  },
  {
   "cell_type": "code",
   "execution_count": null,
   "id": "bd9e6e42-eaec-4fd3-809b-908eb4e2cba7",
   "metadata": {},
   "outputs": [],
   "source": []
  },
  {
   "cell_type": "code",
   "execution_count": null,
   "id": "339ee643-8a48-4088-86fb-0e679c770fc1",
   "metadata": {},
   "outputs": [],
   "source": []
  },
  {
   "cell_type": "code",
   "execution_count": null,
   "id": "44406c61-5a51-4f4d-975e-faa6c58208ee",
   "metadata": {},
   "outputs": [],
   "source": []
  },
  {
   "cell_type": "code",
   "execution_count": null,
   "id": "901ac004-684d-4c27-942d-2660072620f9",
   "metadata": {},
   "outputs": [],
   "source": []
  },
  {
   "cell_type": "code",
   "execution_count": null,
   "id": "ee591c15-e43b-4cf4-abca-cfc8f0aece6f",
   "metadata": {},
   "outputs": [],
   "source": []
  }
 ],
 "metadata": {
  "kernelspec": {
   "display_name": "Python 3 (ipykernel)",
   "language": "python",
   "name": "python3"
  },
  "language_info": {
   "codemirror_mode": {
    "name": "ipython",
    "version": 3
   },
   "file_extension": ".py",
   "mimetype": "text/x-python",
   "name": "python",
   "nbconvert_exporter": "python",
   "pygments_lexer": "ipython3",
   "version": "3.12.0"
  }
 },
 "nbformat": 4,
 "nbformat_minor": 5
}
