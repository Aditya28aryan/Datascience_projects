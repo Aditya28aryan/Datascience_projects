{
 "cells": [
  {
   "cell_type": "markdown",
   "id": "13adc3b5-dd7f-4627-92e8-ef957a9fad5d",
   "metadata": {},
   "source": [
    "# Recommendation System"
   ]
  },
  {
   "cell_type": "markdown",
   "id": "9ca40e14-2677-4d15-80ff-e549b2eb8af1",
   "metadata": {},
   "source": [
    "* **User Based Collaborating Filtering**"
   ]
  },
  {
   "cell_type": "markdown",
   "id": "bd704975-6fab-420a-9923-a681edfc3581",
   "metadata": {},
   "source": [
    "* https://docs.google.com/spreadsheets/d/1uLBjLnFu8EbUPPPjzoXke_AJeF3nf0tfgzimsiQlyaQ/edit?usp=sharing"
   ]
  },
  {
   "cell_type": "code",
   "execution_count": 53,
   "id": "2b84b420-5dfd-4edb-b366-cc382d20924f",
   "metadata": {},
   "outputs": [],
   "source": [
    "import numpy as np\n",
    "import pandas as pd"
   ]
  },
  {
   "cell_type": "code",
   "execution_count": 54,
   "id": "eeda5b07-526d-4fac-acfc-7490bbfabaa2",
   "metadata": {},
   "outputs": [],
   "source": [
    "user_item_matrix = np.array([\n",
    "    [3,4,0,5], # User 1 \n",
    "    [4,3,5,0], # User 2 \n",
    "    [0,2,4,3], # User 3 \n",
    "    [5,0,3,4] # User 4\n",
    "])"
   ]
  },
  {
   "cell_type": "code",
   "execution_count": 55,
   "id": "9dcd6f56-f0cf-4fd4-ae13-e17c2c7d9095",
   "metadata": {},
   "outputs": [
    {
     "data": {
      "text/plain": [
       "array([[3, 4, 0, 5],\n",
       "       [4, 3, 5, 0],\n",
       "       [0, 2, 4, 3],\n",
       "       [5, 0, 3, 4]])"
      ]
     },
     "execution_count": 55,
     "metadata": {},
     "output_type": "execute_result"
    }
   ],
   "source": [
    "user_item_matrix"
   ]
  },
  {
   "cell_type": "code",
   "execution_count": 56,
   "id": "a7ca9116-0e47-4a9c-bb6e-2b36c73e5a32",
   "metadata": {},
   "outputs": [
    {
     "data": {
      "text/plain": [
       "array([3, 4, 0, 5])"
      ]
     },
     "execution_count": 56,
     "metadata": {},
     "output_type": "execute_result"
    }
   ],
   "source": [
    "user_item_matrix[0] # User 1"
   ]
  },
  {
   "cell_type": "code",
   "execution_count": 57,
   "id": "48c53603-0431-4856-89f4-94d0a84fbe87",
   "metadata": {},
   "outputs": [],
   "source": [
    "# We will write a function for calculating Cosine Similarity\n",
    "dot_product = np.dot(user_item_matrix[0],user_item_matrix[1])\n"
   ]
  },
  {
   "cell_type": "code",
   "execution_count": 58,
   "id": "e7e692b0-0cf9-4fc5-8755-dce122a7a432",
   "metadata": {},
   "outputs": [
    {
     "data": {
      "text/plain": [
       "24"
      ]
     },
     "execution_count": 58,
     "metadata": {},
     "output_type": "execute_result"
    }
   ],
   "source": [
    "dot_product"
   ]
  },
  {
   "cell_type": "code",
   "execution_count": 59,
   "id": "829d92bb-eceb-4b24-bf8c-9d207cf448ee",
   "metadata": {},
   "outputs": [],
   "source": [
    "# We will write a function for calculating Cosine Similarity\n",
    "def cosine_similarity(user_1, user_2) :\n",
    "    dot_product = np.dot(user_item_matrix[0],user_item_matrix[1])\n",
    "    norm_user_1 = np.linalg.norm(user_1)\n",
    "    norm_user_2 = np.linalg.norm(user_2)\n",
    "    similarity = dot_product/(norm_user_1 * norm_user_2)\n",
    "    return similarity\n"
   ]
  },
  {
   "cell_type": "code",
   "execution_count": 60,
   "id": "1953e767-ac39-4f41-a5c6-839d487e70ea",
   "metadata": {},
   "outputs": [
    {
     "data": {
      "text/plain": [
       "0.4799999999999999"
      ]
     },
     "execution_count": 60,
     "metadata": {},
     "output_type": "execute_result"
    }
   ],
   "source": [
    "cosine_similarity(user_item_matrix[0],user_item_matrix[1])"
   ]
  },
  {
   "cell_type": "code",
   "execution_count": 61,
   "id": "1f06a394-43b7-4914-9cef-0887bc0f7d9d",
   "metadata": {},
   "outputs": [
    {
     "data": {
      "text/plain": [
       "0.6302708777266682"
      ]
     },
     "execution_count": 61,
     "metadata": {},
     "output_type": "execute_result"
    }
   ],
   "source": [
    "cosine_similarity(user_item_matrix[1],user_item_matrix[2]) # 68 aana chayie , something wrong here"
   ]
  },
  {
   "cell_type": "code",
   "execution_count": 62,
   "id": "ad15a752-5c90-4e5a-abd3-3be80eff3661",
   "metadata": {},
   "outputs": [
    {
     "data": {
      "text/plain": [
       "0.6302708777266682"
      ]
     },
     "execution_count": 62,
     "metadata": {},
     "output_type": "execute_result"
    }
   ],
   "source": [
    "cosine_similarity(user_item_matrix[2],user_item_matrix[3])"
   ]
  },
  {
   "cell_type": "code",
   "execution_count": 63,
   "id": "dc31a46d-b0ad-440f-b0f4-74d369671203",
   "metadata": {},
   "outputs": [],
   "source": [
    "similarities = []\n",
    "for i , other_user in enumerate(user_item_matrix) :\n",
    "    if i !=0 : # Excluding the first user :\n",
    "        similarity = cosine_similarity(user_item_matrix[0],other_user)\n",
    "        similarities.append((i+1 , similarity))"
   ]
  },
  {
   "cell_type": "code",
   "execution_count": 64,
   "id": "29d024c6-69e6-4725-b1d6-142a44b88bd9",
   "metadata": {},
   "outputs": [
    {
     "data": {
      "text/plain": [
       "0.4799999999999999"
      ]
     },
     "execution_count": 64,
     "metadata": {},
     "output_type": "execute_result"
    }
   ],
   "source": [
    "similarity"
   ]
  },
  {
   "cell_type": "code",
   "execution_count": 65,
   "id": "78bf088f-e5c0-456f-8b84-f6b44d59bc85",
   "metadata": {},
   "outputs": [
    {
     "data": {
      "text/plain": [
       "[(2, 0.4799999999999999), (3, 0.6302708777266682), (4, 0.4799999999999999)]"
      ]
     },
     "execution_count": 65,
     "metadata": {},
     "output_type": "execute_result"
    }
   ],
   "source": [
    " similarities # here user 2 = 0.4799999999999999\n",
    "# user 3= 0.6302708777266682 & the user 3 = 0.4799999999999999"
   ]
  },
  {
   "cell_type": "code",
   "execution_count": 66,
   "id": "400a6f36-5b87-4077-8fa6-7c1851a5e38c",
   "metadata": {},
   "outputs": [],
   "source": [
    "similarities = sorted(similarities, reverse=True) # reverse work ascending or decending order"
   ]
  },
  {
   "cell_type": "code",
   "execution_count": 67,
   "id": "494ef945-a84b-4dde-a9d7-4aa6b931135e",
   "metadata": {},
   "outputs": [
    {
     "data": {
      "text/plain": [
       "[(4, 0.4799999999999999), (3, 0.6302708777266682), (2, 0.4799999999999999)]"
      ]
     },
     "execution_count": 67,
     "metadata": {},
     "output_type": "execute_result"
    }
   ],
   "source": [
    "similarities"
   ]
  },
  {
   "cell_type": "code",
   "execution_count": 68,
   "id": "e9462198-b227-4875-a40d-78223c85783b",
   "metadata": {},
   "outputs": [],
   "source": [
    "recommended_set = set()"
   ]
  },
  {
   "cell_type": "code",
   "execution_count": 69,
   "id": "6d9bc39d-8218-41a7-ac5e-d05d39222dd6",
   "metadata": {},
   "outputs": [
    {
     "data": {
      "text/plain": [
       "set()"
      ]
     },
     "execution_count": 69,
     "metadata": {},
     "output_type": "execute_result"
    }
   ],
   "source": [
    "recommended_set"
   ]
  },
  {
   "cell_type": "markdown",
   "id": "d24e92a9-0bc1-4c2a-987e-94f5bb9d9ce7",
   "metadata": {},
   "source": [
    "for other_user_id , similarity in similarities :\n",
    "    for i , rating in enumerate(user_item_matrix[other_user_id-1]) :\n",
    "        if rating >0 and user_item_matrix[0][i] == 0 : # Checking if User 1 has not rated the item\n",
    "\n",
    "            # ye nahi hua "
   ]
  },
  {
   "cell_type": "code",
   "execution_count": 84,
   "id": "dfeb0299-97de-451f-bc35-4f222bae7f44",
   "metadata": {},
   "outputs": [],
   "source": [
    "for other_user_id , similarity in similarities :\n",
    "    for i , rating in enumerate(user_item_matrix[other_user_id-1]) :\n",
    "        if rating >0 and user_item_matrix[0][i] == 0 : # Checking if User 1 has not rated the item\n",
    "            recommended_set.add(i+1)"
   ]
  },
  {
   "cell_type": "code",
   "execution_count": 87,
   "id": "5989892c-c955-4e5a-bd43-dae55f1cbdaf",
   "metadata": {},
   "outputs": [
    {
     "name": "stdout",
     "output_type": "stream",
     "text": [
      "Recommended Movies for User 1: {3}\n"
     ]
    }
   ],
   "source": [
    "print(\"Recommended Movies for User 1:\", recommended_set)"
   ]
  },
  {
   "cell_type": "code",
   "execution_count": null,
   "id": "0827959f-2af0-45f0-b807-48846c3fdb64",
   "metadata": {},
   "outputs": [],
   "source": []
  },
  {
   "cell_type": "code",
   "execution_count": null,
   "id": "5b8e8264-2742-4f53-bfdf-23b17c2ff3a5",
   "metadata": {},
   "outputs": [],
   "source": []
  }
 ],
 "metadata": {
  "kernelspec": {
   "display_name": "Python 3 (ipykernel)",
   "language": "python",
   "name": "python3"
  },
  "language_info": {
   "codemirror_mode": {
    "name": "ipython",
    "version": 3
   },
   "file_extension": ".py",
   "mimetype": "text/x-python",
   "name": "python",
   "nbconvert_exporter": "python",
   "pygments_lexer": "ipython3",
   "version": "3.12.0"
  }
 },
 "nbformat": 4,
 "nbformat_minor": 5
}
