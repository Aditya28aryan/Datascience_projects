{
 "cells": [
  {
   "cell_type": "markdown",
   "id": "92f2124a-27b0-4fe4-b298-a215b3c21017",
   "metadata": {},
   "source": [
    "# K FOLD"
   ]
  },
  {
   "cell_type": "markdown",
   "id": "6ec844d7-d17a-4057-a604-2ccf36c57ac8",
   "metadata": {},
   "source": [
    "https://docs.google.com/spreadsheets/d/17k3FKV-UDTIwfiosGFfybzSBxmRu_fqpH07L4tYmxH0/edit?usp=sharing"
   ]
  },
  {
   "cell_type": "code",
   "execution_count": 7,
   "id": "29c391f8-08b0-4d0e-a9cc-0fd0f5b57492",
   "metadata": {},
   "outputs": [],
   "source": [
    "import warnings\n",
    "warnings.filterwarnings('ignore')"
   ]
  },
  {
   "cell_type": "code",
   "execution_count": 8,
   "id": "7315b294-3447-4550-8ee8-0d736b20f6a3",
   "metadata": {},
   "outputs": [],
   "source": [
    "from sklearn.datasets import load_breast_cancer\n",
    "cancer = load_breast_cancer()\n",
    "x, y = cancer.data, cancer.target"
   ]
  },
  {
   "cell_type": "code",
   "execution_count": 9,
   "id": "1e6f77c1-eb14-4e47-b3e6-14e192a28a8c",
   "metadata": {},
   "outputs": [],
   "source": [
    "from sklearn.linear_model import LogisticRegression\n",
    "log_reg = LogisticRegression()"
   ]
  },
  {
   "cell_type": "code",
   "execution_count": 10,
   "id": "e1afd7bf-a46b-4268-8359-2c29db8c8a0f",
   "metadata": {},
   "outputs": [],
   "source": [
    "k_fold = 5"
   ]
  },
  {
   "cell_type": "code",
   "execution_count": 11,
   "id": "747c5a80-6fd7-4e54-9c36-456f37b27144",
   "metadata": {},
   "outputs": [],
   "source": [
    "from sklearn.model_selection import KFold\n",
    "\n",
    "kf = KFold(n_splits=k_fold, random_state=42, shuffle=True)\n"
   ]
  },
  {
   "cell_type": "code",
   "execution_count": 15,
   "id": "72b54227-4fc9-4473-82b2-4931531c5e4f",
   "metadata": {},
   "outputs": [],
   "source": [
    "from sklearn.model_selection import cross_val_score , cross_val_predict"
   ]
  },
  {
   "cell_type": "code",
   "execution_count": 17,
   "id": "52633bb2-cfb3-43ce-a9a0-543250a5b16e",
   "metadata": {},
   "outputs": [],
   "source": [
    "cv_accuarcy = cross_val_score(log_reg , x,y , cv = kf , scoring = 'accuracy')"
   ]
  },
  {
   "cell_type": "code",
   "execution_count": 19,
   "id": "08ee6a86-ebfa-4a7a-b263-9b3102ddcea6",
   "metadata": {},
   "outputs": [],
   "source": [
    "predicted = cross_val_predict(log_reg, x,y,cv = kf)"
   ]
  },
  {
   "cell_type": "code",
   "execution_count": 20,
   "id": "f06bce81-ff8a-49e6-9b0f-ff462625c2f8",
   "metadata": {},
   "outputs": [
    {
     "data": {
      "text/plain": [
       "0.9419655333022823"
      ]
     },
     "execution_count": 20,
     "metadata": {},
     "output_type": "execute_result"
    }
   ],
   "source": [
    "cv_accuarcy.mean()"
   ]
  },
  {
   "cell_type": "code",
   "execution_count": 21,
   "id": "c308c8c3-8315-4c10-8bb8-2d8a9ce78324",
   "metadata": {},
   "outputs": [
    {
     "data": {
      "text/plain": [
       "array([0.95614035, 0.96491228, 0.89473684, 0.97368421, 0.92035398])"
      ]
     },
     "execution_count": 21,
     "metadata": {},
     "output_type": "execute_result"
    }
   ],
   "source": [
    "cv_accuarcy."
   ]
  },
  {
   "cell_type": "code",
   "execution_count": null,
   "id": "df895168-a9c2-4b02-ae11-de6e14286586",
   "metadata": {},
   "outputs": [],
   "source": []
  },
  {
   "cell_type": "code",
   "execution_count": null,
   "id": "7bd63ce2-964e-47b9-8270-8dda82a61e09",
   "metadata": {},
   "outputs": [],
   "source": []
  },
  {
   "cell_type": "code",
   "execution_count": null,
   "id": "7fe1899b-3329-47ac-bce4-a05f2f13b303",
   "metadata": {},
   "outputs": [],
   "source": []
  },
  {
   "cell_type": "code",
   "execution_count": null,
   "id": "d4d7b614-0c91-465f-92db-3ea70325f95a",
   "metadata": {},
   "outputs": [],
   "source": []
  }
 ],
 "metadata": {
  "kernelspec": {
   "display_name": "Python 3 (ipykernel)",
   "language": "python",
   "name": "python3"
  },
  "language_info": {
   "codemirror_mode": {
    "name": "ipython",
    "version": 3
   },
   "file_extension": ".py",
   "mimetype": "text/x-python",
   "name": "python",
   "nbconvert_exporter": "python",
   "pygments_lexer": "ipython3",
   "version": "3.12.0"
  }
 },
 "nbformat": 4,
 "nbformat_minor": 5
}
